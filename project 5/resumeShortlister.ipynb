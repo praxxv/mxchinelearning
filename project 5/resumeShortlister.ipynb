{
  "cells": [
    {
      "cell_type": "code",
      "execution_count": null,
      "metadata": {
        "colab": {
          "base_uri": "https://localhost:8080/"
        },
        "id": "oSqK2MaYEAIU",
        "outputId": "2e77d937-7059-4cc6-ed8f-0b23f7c44d29"
      },
      "outputs": [
        {
          "name": "stdout",
          "output_type": "stream",
          "text": [
            "Requirement already satisfied: requests in /usr/local/lib/python3.11/dist-packages (2.32.3)\n",
            "Requirement already satisfied: python-dotenv in /usr/local/lib/python3.11/dist-packages (1.1.1)\n",
            "Requirement already satisfied: beautifulsoup4 in /usr/local/lib/python3.11/dist-packages (4.13.4)\n",
            "Requirement already satisfied: openai in /usr/local/lib/python3.11/dist-packages (1.86.0)\n",
            "Requirement already satisfied: charset-normalizer<4,>=2 in /usr/local/lib/python3.11/dist-packages (from requests) (3.4.2)\n",
            "Requirement already satisfied: idna<4,>=2.5 in /usr/local/lib/python3.11/dist-packages (from requests) (3.10)\n",
            "Requirement already satisfied: urllib3<3,>=1.21.1 in /usr/local/lib/python3.11/dist-packages (from requests) (2.4.0)\n",
            "Requirement already satisfied: certifi>=2017.4.17 in /usr/local/lib/python3.11/dist-packages (from requests) (2025.6.15)\n",
            "Requirement already satisfied: soupsieve>1.2 in /usr/local/lib/python3.11/dist-packages (from beautifulsoup4) (2.7)\n",
            "Requirement already satisfied: typing-extensions>=4.0.0 in /usr/local/lib/python3.11/dist-packages (from beautifulsoup4) (4.14.0)\n",
            "Requirement already satisfied: anyio<5,>=3.5.0 in /usr/local/lib/python3.11/dist-packages (from openai) (4.9.0)\n",
            "Requirement already satisfied: distro<2,>=1.7.0 in /usr/local/lib/python3.11/dist-packages (from openai) (1.9.0)\n",
            "Requirement already satisfied: httpx<1,>=0.23.0 in /usr/local/lib/python3.11/dist-packages (from openai) (0.28.1)\n",
            "Requirement already satisfied: jiter<1,>=0.4.0 in /usr/local/lib/python3.11/dist-packages (from openai) (0.10.0)\n",
            "Requirement already satisfied: pydantic<3,>=1.9.0 in /usr/local/lib/python3.11/dist-packages (from openai) (2.11.7)\n",
            "Requirement already satisfied: sniffio in /usr/local/lib/python3.11/dist-packages (from openai) (1.3.1)\n",
            "Requirement already satisfied: tqdm>4 in /usr/local/lib/python3.11/dist-packages (from openai) (4.67.1)\n",
            "Requirement already satisfied: httpcore==1.* in /usr/local/lib/python3.11/dist-packages (from httpx<1,>=0.23.0->openai) (1.0.9)\n",
            "Requirement already satisfied: h11>=0.16 in /usr/local/lib/python3.11/dist-packages (from httpcore==1.*->httpx<1,>=0.23.0->openai) (0.16.0)\n",
            "Requirement already satisfied: annotated-types>=0.6.0 in /usr/local/lib/python3.11/dist-packages (from pydantic<3,>=1.9.0->openai) (0.7.0)\n",
            "Requirement already satisfied: pydantic-core==2.33.2 in /usr/local/lib/python3.11/dist-packages (from pydantic<3,>=1.9.0->openai) (2.33.2)\n",
            "Requirement already satisfied: typing-inspection>=0.4.0 in /usr/local/lib/python3.11/dist-packages (from pydantic<3,>=1.9.0->openai) (0.4.1)\n"
          ]
        }
      ],
      "source": [
        "!pip install requests python-dotenv beautifulsoup4 openai"
      ]
    },
    {
      "cell_type": "code",
      "execution_count": null,
      "metadata": {
        "id": "Df6glS3kGY0O"
      },
      "outputs": [],
      "source": [
        "import os\n",
        "import requests\n",
        "import json\n",
        "from typing import List\n",
        "from dotenv import load_dotenv\n",
        "from bs4 import BeautifulSoup\n",
        "from IPython.display import Markdown, display, update_display\n",
        "from openai import OpenAI"
      ]
    },
    {
      "cell_type": "code",
      "execution_count": null,
      "metadata": {
        "colab": {
          "base_uri": "https://localhost:8080/"
        },
        "id": "8tPmENN6Gi6n",
        "outputId": "ce5f9b05-1783-4931-e64f-ac76a6c81614"
      },
      "outputs": [
        {
          "name": "stdout",
          "output_type": "stream",
          "text": [
            "API key looks good so far\n"
          ]
        }
      ],
      "source": [
        "# Initialize and constants\n",
        "\n",
        "import os\n",
        "from openai import OpenAI\n",
        "from dotenv import load_dotenv\n",
        "\n",
        "# Set environment variable directly (alternative to .env file)\n",
        "os.environ['OPENAI_API_KEY'] = \"sk........\"\n",
        "\n",
        "# Load environment variables\n",
        "load_dotenv(override=True)\n",
        "api_key = os.getenv('OPENAI_API_KEY')\n",
        "\n",
        "# Sanity check for API key\n",
        "if api_key and api_key.startswith('sk-proj-') and len(api_key) > 10:\n",
        "    print(\"API key looks good so far\")\n",
        "else:\n",
        "    print(\"There might be a problem with your API key? Please visit the troubleshooting notebook!\")\n",
        "\n",
        "# Model name and OpenAI client initialization\n",
        "MODEL = 'gpt-4o-mini'\n",
        "openai = OpenAI()\n"
      ]
    },
    {
      "cell_type": "code",
      "execution_count": null,
      "metadata": {
        "id": "qLgEkFWcHDbm"
      },
      "outputs": [],
      "source": [
        "class TextFile:\n",
        "    \"\"\"\n",
        "    A utility class to represent a local text file, mimicking the Website class structure.\n",
        "    \"\"\"\n",
        "\n",
        "    def __init__(self, file_path):\n",
        "        self.file_path = file_path\n",
        "        self.title = file_path.split(\"/\")[-1]  # Use filename as title\n",
        "\n",
        "        try:\n",
        "            with open(file_path, 'r', encoding='utf-8') as f:\n",
        "                self.text = f.read().strip()\n",
        "        except FileNotFoundError:\n",
        "            print(f\"[ERROR] File not found: {file_path}\")\n",
        "            self.text = \"\"\n",
        "        except Exception as e:\n",
        "            print(f\"[ERROR] Failed to read file: {e}\")\n",
        "            self.text = \"\"\n",
        "\n",
        "    def get_contents(self):\n",
        "        return f\"File Title:\\n{self.title}\\n\\nFile Contents:\\n{self.text}\\n\\n\"\n"
      ]
    },
    {
      "cell_type": "code",
      "execution_count": null,
      "metadata": {
        "colab": {
          "base_uri": "https://localhost:8080/"
        },
        "id": "Bb8t1QikIb3H",
        "outputId": "824c9080-37e4-42b5-fab2-a85466c326b3"
      },
      "outputs": [
        {
          "name": "stdout",
          "output_type": "stream",
          "text": [
            "File Title:\n",
            "rxsme.txt\n",
            "\n",
            "File Contents:\n",
            "==RESUME 1==\n",
            "\n",
            "Priya Sharma  \n",
            "Email: priya.sharma@gmail.com | Phone: +91-9876543210  \n",
            "LinkedIn: linkedin.com/in/priyasharma  \n",
            "\n",
            "Objective  \n",
            "Detail-oriented data enthusiast with hands-on experience in analytics and dashboard creation, seeking roles in AI and analytics.\n",
            "\n",
            "Education  \n",
            "B.Tech in Electronics and Communication Engineering  \n",
            "Delhi Technological University | 2019 – 2023\n",
            "\n",
            "Skills  \n",
            "- Python, SQL, Excel  \n",
            "- Data Visualization (Tableau)  \n",
            "- Statistical Analysis\n",
            "\n",
            "Experience  \n",
            "Data Analyst Intern | Infosys | Jan 2023 – June 2023  \n",
            "- Built customer churn prediction dashboards in Tableau  \n",
            "- Cleaned and analyzed large telecom datasets using Python\n",
            "\n",
            "Certifications  \n",
            "- Google Data Analytics Certificate  \n",
            "\n",
            "--------------------------------------------------------------------------------------------------------------------------\n",
            "\n",
            "==RESUME 2==\n",
            "\n",
            "Rohit Mehta  \n",
            "Email: rohit.mehta@gmail.com | Phone: +91-9012345678  \n",
            "GitHub: github.com/rohitmehta | LinkedIn: linkedin.com/in/rohit-ai  \n",
            "\n",
            "Objective  \n",
            "Aspiring AI Engineer with strong foundations in machine learning and deep learning, seeking challenging roles in AI development.\n",
            "\n",
            "Education  \n",
            "B.E. in Computer Science  \n",
            "BITS Pilani | 2018 – 2022\n",
            "\n",
            "Skills  \n",
            "- Python, Java, TensorFlow, PyTorch  \n",
            "- Scikit-learn, Pandas, NumPy  \n",
            "- NLP, Deep Learning\n",
            "\n",
            "Experience  \n",
            "Research Intern | TCS Research | Summer 2022  \n",
            "- Built sentiment analysis models for low-resource Indian languages  \n",
            "- Implemented BERT and LSTM architectures\n",
            "\n",
            "Projects  \n",
            "- Fake News Detection using BERT  \n",
            "- Image Classification using CNNs on CIFAR-10  \n",
            "\n",
            "Certifications  \n",
            "- Deep Learning Specialization – Coursera (Andrew Ng)  \n",
            "-----------------------------------------------------------------------------------------------------------------------------\n",
            "\n",
            "==RESUME 3==\n",
            "\n",
            "Aarti Desai  \n",
            "Email: aarti.desai@gmail.com | Phone: +91-9123456789  \n",
            "Portfolio: aartidesai.netlify.app  \n",
            "\n",
            "Objective  \n",
            "Motivated graduate from a liberal arts background seeking opportunities in content and coordination roles.\n",
            "\n",
            "Education  \n",
            "B.A. in Sociology  \n",
            "St. Xavier’s College, Mumbai | 2019 – 2022\n",
            "\n",
            "Skills  \n",
            "- Communication, Event Planning  \n",
            "- MS Office, Canva, Public Speaking\n",
            "\n",
            "Experience  \n",
            "Volunteer Coordinator | Udaan NGO | 2021  \n",
            "- Managed logistics for community workshops  \n",
            "- Led outreach programs in urban areas\n",
            "\n",
            "Projects  \n",
            "- Organized \"Education for All\" awareness campaign  \n",
            "--------------------------------------------------------------------------------------------------------------------------------\n",
            "==RESUME 4==\n",
            "\n",
            "Kunal Raj  \n",
            "Email: kunal.raj@gmail.com | Phone: +91-9988776655  \n",
            "LinkedIn: linkedin.com/in/kunalraj  \n",
            "\n",
            "Objective  \n",
            "Data science graduate with a passion for applied machine learning and analytics-driven solutions.\n",
            "\n",
            "Education  \n",
            "M.Sc. in Data Science  \n",
            "IIT Hyderabad | 2021 – 2023  \n",
            "B.Sc. in Statistics | Banaras Hindu University\n",
            "\n",
            "Skills  \n",
            "- Python, R, SQL, Power BI  \n",
            "- Machine Learning, Deep Learning, XGBoost  \n",
            "- Data Cleaning, Feature Engineering\n",
            "\n",
            "Experience  \n",
            "Data Science Intern | ZS Associates | Summer 2022  \n",
            "- Built customer segmentation model using K-Means  \n",
            "- Developed XGBoost-based sales prediction tool\n",
            "\n",
            "Certifications  \n",
            "- IBM AI Engineering Professional Certificate  \n",
            "------------------------------------------------------------------------------------------------------\n",
            "\n",
            "\n"
          ]
        }
      ],
      "source": [
        "file = TextFile(\"rxsme.txt\")\n",
        "print(file.get_contents())"
      ]
    },
    {
      "cell_type": "code",
      "execution_count": null,
      "metadata": {
        "id": "4HD0tgAqKeag"
      },
      "outputs": [],
      "source": [
        "system_prompt = (\n",
        "    \"\"\"\n",
        "You are an AI assistant helping a hiring manager evaluate multiple job resumes for the position of A.I. Engineer.\n",
        "\n",
        "Job Requirements:\n",
        "- A college degree (any discipline)\n",
        "- Proficiency in programming/coding\n",
        "- Background in data analytics\n",
        "- Strong skills in Artificial Intelligence (A.I.) and Machine Learning (M.L.)\n",
        "\n",
        "Instructions:\n",
        "1. For each resume, assign a score from 0–100 based on how well it meets the job requirements.\n",
        "2. Rank the resumes from most suitable to least.\n",
        "3. Justify each score with a brief explanation.\n",
        "4. If a resume is not suitable, state what the candidate lacks.\n",
        "\n",
        "The resumes are marked clearly as RESUME 1, RESUME 2, etc.\n",
        "\"\"\"\n",
        ")\n"
      ]
    },
    {
      "cell_type": "code",
      "execution_count": null,
      "metadata": {
        "id": "4lsyqCEndkxP"
      },
      "outputs": [],
      "source": [
        "def get_user_prompt(file):\n",
        "    user_prompt = \"The following are the resumes of candidates who have applied for a job for a role of an A.I Engineer. \\n\"\n",
        "    user_prompt += \"you are required to assign suitable scores, rank them accordingly and give a brief explaination for each.\"\n",
        "    user_prompt += \"Also mention if the given resume is suitable for the job or not.\"\n",
        "    user_prompt += file.get_contents()\n",
        "    user_prompt = user_prompt[:5_000]\n",
        "    return user_prompt"
      ]
    },
    {
      "cell_type": "code",
      "execution_count": null,
      "metadata": {
        "colab": {
          "base_uri": "https://localhost:8080/",
          "height": 145
        },
        "id": "ck_P9_TRfcXz",
        "outputId": "f42a7897-2c76-4d80-e8f3-036f2d0ac6b3"
      },
      "outputs": [
        {
          "data": {
            "application/vnd.google.colaboratory.intrinsic+json": {
              "type": "string"
            },
            "text/plain": [
              "'The following are the resumes of candidates who have applied for a job for a role of an A.I Engineer. \\nyou are required to assign suitable scores, rank them accordingly and give a brief explaination for each.Also mention if the given resume is suitable for the job or not.File Title:\\nrxsme.txt\\n\\nFile Contents:\\n==RESUME 1==\\n\\nPriya Sharma  \\nEmail: priya.sharma@gmail.com | Phone: +91-9876543210  \\nLinkedIn: linkedin.com/in/priyasharma  \\n\\nObjective  \\nDetail-oriented data enthusiast with hands-on experience in analytics and dashboard creation, seeking roles in AI and analytics.\\n\\nEducation  \\nB.Tech in Electronics and Communication Engineering  \\nDelhi Technological University | 2019 – 2023\\n\\nSkills  \\n- Python, SQL, Excel  \\n- Data Visualization (Tableau)  \\n- Statistical Analysis\\n\\nExperience  \\nData Analyst Intern | Infosys | Jan 2023 – June 2023  \\n- Built customer churn prediction dashboards in Tableau  \\n- Cleaned and analyzed large telecom datasets using Python\\n\\nCertifications  \\n- Google Data Analytics Certificate  \\n\\n--------------------------------------------------------------------------------------------------------------------------\\n\\n==RESUME 2==\\n\\nRohit Mehta  \\nEmail: rohit.mehta@gmail.com | Phone: +91-9012345678  \\nGitHub: github.com/rohitmehta | LinkedIn: linkedin.com/in/rohit-ai  \\n\\nObjective  \\nAspiring AI Engineer with strong foundations in machine learning and deep learning, seeking challenging roles in AI development.\\n\\nEducation  \\nB.E. in Computer Science  \\nBITS Pilani | 2018 – 2022\\n\\nSkills  \\n- Python, Java, TensorFlow, PyTorch  \\n- Scikit-learn, Pandas, NumPy  \\n- NLP, Deep Learning\\n\\nExperience  \\nResearch Intern | TCS Research | Summer 2022  \\n- Built sentiment analysis models for low-resource Indian languages  \\n- Implemented BERT and LSTM architectures\\n\\nProjects  \\n- Fake News Detection using BERT  \\n- Image Classification using CNNs on CIFAR-10  \\n\\nCertifications  \\n- Deep Learning Specialization – Coursera (Andrew Ng)  \\n-----------------------------------------------------------------------------------------------------------------------------\\n\\n==RESUME 3==\\n\\nAarti Desai  \\nEmail: aarti.desai@gmail.com | Phone: +91-9123456789  \\nPortfolio: aartidesai.netlify.app  \\n\\nObjective  \\nMotivated graduate from a liberal arts background seeking opportunities in content and coordination roles.\\n\\nEducation  \\nB.A. in Sociology  \\nSt. Xavier’s College, Mumbai | 2019 – 2022\\n\\nSkills  \\n- Communication, Event Planning  \\n- MS Office, Canva, Public Speaking\\n\\nExperience  \\nVolunteer Coordinator | Udaan NGO | 2021  \\n- Managed logistics for community workshops  \\n- Led outreach programs in urban areas\\n\\nProjects  \\n- Organized \"Education for All\" awareness campaign  \\n--------------------------------------------------------------------------------------------------------------------------------\\n==RESUME 4==\\n\\nKunal Raj  \\nEmail: kunal.raj@gmail.com | Phone: +91-9988776655  \\nLinkedIn: linkedin.com/in/kunalraj  \\n\\nObjective  \\nData science graduate with a passion for applied machine learning and analytics-driven solutions.\\n\\nEducation  \\nM.Sc. in Data Science  \\nIIT Hyderabad | 2021 – 2023  \\nB.Sc. in Statistics | Banaras Hindu University\\n\\nSkills  \\n- Python, R, SQL, Power BI  \\n- Machine Learning, Deep Learning, XGBoost  \\n- Data Cleaning, Feature Engineering\\n\\nExperience  \\nData Science Intern | ZS Associates | Summer 2022  \\n- Built customer segmentation model using K-Means  \\n- Developed XGBoost-based sales prediction tool\\n\\nCertifications  \\n- IBM AI Engineering Professional Certificate  \\n------------------------------------------------------------------------------------------------------\\n\\n'"
            ]
          },
          "execution_count": 32,
          "metadata": {},
          "output_type": "execute_result"
        }
      ],
      "source": [
        "get_user_prompt(file)"
      ]
    },
    {
      "cell_type": "code",
      "execution_count": null,
      "metadata": {
        "id": "cSQOeNWOfngY"
      },
      "outputs": [],
      "source": [
        "def stream_brochure(file):\n",
        "    stream = openai.chat.completions.create(\n",
        "        model=MODEL,\n",
        "        messages=[\n",
        "            {\"role\": \"system\", \"content\": system_prompt},\n",
        "            {\"role\": \"user\", \"content\": get_user_prompt(file)}\n",
        "          ],\n",
        "        stream=True\n",
        "    )\n",
        "\n",
        "    response = \"\"\n",
        "    display_handle = display(Markdown(\"\"), display_id=True)\n",
        "    for chunk in stream:\n",
        "        response += chunk.choices[0].delta.content or ''\n",
        "        response = response.replace(\"```\",\"\").replace(\"markdown\", \"\")\n",
        "        update_display(Markdown(response), display_id=display_handle.display_id)"
      ]
    },
    {
      "cell_type": "code",
      "execution_count": null,
      "metadata": {
        "colab": {
          "base_uri": "https://localhost:8080/",
          "height": 567
        },
        "id": "g9bsuF15fyfR",
        "outputId": "eebe0ed6-eae4-41b5-846f-990a9c16f0a8"
      },
      "outputs": [
        {
          "data": {
            "text/markdown": [
              "**Score and Ranking of Resumes:**\n",
              "\n",
              "1. **Rohit Mehta**  \n",
              "   **Score: 95**  \n",
              "   **Justification:** Rohit has a strong background in Artificial Intelligence with a degree in Computer Science and hands-on experience in machine learning and deep learning. His skills include Python, TensorFlow, and PyTorch, which are highly relevant for A.I. engineering. He has worked on significant projects like sentiment analysis and fake news detection, showcasing his proficiency and interest in AI applications. His resume meets all job requirements effectively.  \n",
              "\n",
              "2. **Kunal Raj**  \n",
              "   **Score: 90**  \n",
              "   **Justification:** Kunal possesses an M.Sc. in Data Science, alongside a B.Sc. in Statistics, which provides him a solid foundation in analytics. His skills in Python, R, SQL, and machine learning methods (including XGBoost) make him a strong candidate. His experience with customer segmentation and sales prediction demonstrates relevant practical application in data-driven environments. He is highly suitable due to his education and experience in analytics and AI.\n",
              "\n",
              "3. **Priya Sharma**  \n",
              "   **Score: 75**  \n",
              "   **Justification:** Priya holds a B.Tech in Electronics and Communication Engineering and has relevant skills in Python and data visualization. However, while she has experience as a data analyst intern, her focus has been more centered on data analytics rather than on AI and machine learning specifically. She lacks experience with advanced AI/Machine Learning techniques and frameworks, which limits her suitability for the role compared to the previous candidates.\n",
              "\n",
              "4. **Aarti Desai**  \n",
              "   **Score: 20**  \n",
              "   **Justification:** Aarti has a background in sociology, which does not provide the technical foundation required for an A.I. Engineer. Her skills are not aligned with programming or data analytics, and her experience is not related to AI or machine learning. She lacks education, skills, and experience suitable for the job requirements, making her an unsuitable candidate. \n",
              "\n",
              "**Summary of Suitability:**\n",
              "\n",
              "- **Rohit Mehta:** Highly suitable; strong AI/ML background and relevant experience.  \n",
              "- **Kunal Raj:** Suitable; solid educational background and experience in data science with relevant skills.  \n",
              "- **Priya Sharma:** Moderately suitable; has a data analytics background but lacks advanced AI/ML expertise.  \n",
              "- **Aarti Desai:** Not suitable; lacks the required background and skills for the A.I. Engineer position."
            ],
            "text/plain": [
              "<IPython.core.display.Markdown object>"
            ]
          },
          "metadata": {},
          "output_type": "display_data"
        }
      ],
      "source": [
        "stream_brochure(file)"
      ]
    },
    {
      "cell_type": "code",
      "execution_count": null,
      "metadata": {
        "colab": {
          "base_uri": "https://localhost:8080/"
        },
        "id": "VmCdS29CgeZv",
        "outputId": "f1a8e0c2-7c80-4f4c-9ee8-ff459f84cb64"
      },
      "outputs": [
        {
          "name": "stdout",
          "output_type": "stream",
          "text": [
            "File Title:\n",
            "rxsume2.txt\n",
            "\n",
            "File Contents:\n",
            "Name: John Doe\n",
            "Email: johndoe@example.com\n",
            "Phone: +1 (123) 456-7890\n",
            "LinkedIn: linkedin.com/in/johndoe\n",
            "GitHub: github.com/johndoe\n",
            "\n",
            "Objective\n",
            "Aspiring A.I. Engineer with a strong background in computer science, machine learning, and data analytics. Seeking to apply advanced AI techniques to real-world problems and contribute to impactful innovations in artificial intelligence.\n",
            "\n",
            "Education\n",
            "Bachelor of Technology in Computer Science\n",
            "Indian Institute of Technology, Delhi — 2019–2023\n",
            "\n",
            "GPA: 8.6/10\n",
            "\n",
            "Relevant Coursework: Machine Learning, Deep Learning, Data Mining, Algorithms\n",
            "\n",
            "Skills\n",
            "Programming Languages: Python, C++, Java\n",
            "\n",
            "AI/ML Libraries: TensorFlow, PyTorch, scikit-learn, Keras\n",
            "\n",
            "Data Analytics: Pandas, NumPy, Matplotlib, Power BI\n",
            "\n",
            "Other Tools: Git, Docker, Jupyter, SQL, REST APIs\n",
            "\n",
            "Soft Skills: Problem-solving, teamwork, analytical thinking\n",
            "\n",
            "Projects\n",
            "Fake News Detection using NLP and Deep Learning\n",
            "\n",
            "Built an LSTM-based neural network using Keras to detect fake news articles.\n",
            "\n",
            "Achieved 94% accuracy on a benchmark dataset.\n",
            "\n",
            "Autonomous Driving Simulation\n",
            "\n",
            "Developed an end-to-end CNN to predict steering angles from camera images in a simulated driving environment.\n",
            "\n",
            "Trained using Udacity’s self-driving car simulator.\n",
            "\n",
            "Work Experience\n",
            "Machine Learning Intern\n",
            "TCS Research, Bengaluru — Summer 2022\n",
            "\n",
            "Worked on optimizing reinforcement learning agents for real-time decision-making.\n",
            "\n",
            "Implemented reward shaping techniques that improved convergence by 20%.\n",
            "\n",
            "Certifications\n",
            "Deep Learning Specialization – Andrew Ng (Coursera)\n",
            "\n",
            "TensorFlow Developer Certificate – Google\n",
            "\n",
            "Data Science with Python – IBM\n",
            "\n",
            "\n"
          ]
        }
      ],
      "source": [
        "file2 = TextFile(\"rxsume2.txt\")\n",
        "print(file2.get_contents())"
      ]
    },
    {
      "cell_type": "code",
      "execution_count": null,
      "metadata": {
        "colab": {
          "base_uri": "https://localhost:8080/",
          "height": 213
        },
        "id": "AKMH91rjg8e5",
        "outputId": "a2f80eb2-018e-4338-953e-d6c94dd11a3d"
      },
      "outputs": [
        {
          "data": {
            "text/markdown": [
              "**Score: 95/100**\n",
              "\n",
              "**Ranking: 1st**\n",
              "\n",
              "**Justification:**\n",
              "John Doe's resume meets all job requirements exceptionally well. He has a relevant college degree in Computer Science from a prestigious institution and demonstrates proficiency in programming with languages including Python, C++, and Java. His coursework in Machine Learning, Deep Learning, and Data Mining aligns perfectly with the job's focus. His experience with AI/ML libraries like TensorFlow and PyTorch showcases his strong skills in artificial intelligence and machine learning. Additionally, his work experience as a Machine Learning Intern and practical projects such as Fake News Detection and Autonomous Driving Simulation further validate his expertise in the field. Moreover, the inclusion of certifications enhances his profile, adding credibility to his skills. The only minor drawback is a lack of direct mention of data analytics role in his projects, but the skills listed suggest adequate proficiency in this area.\n",
              "  \n",
              "---\n",
              "\n",
              "Next, please provide the details of the next resume (RESUME 2) for evaluation."
            ],
            "text/plain": [
              "<IPython.core.display.Markdown object>"
            ]
          },
          "metadata": {},
          "output_type": "display_data"
        }
      ],
      "source": [
        "stream_brochure(file2)"
      ]
    }
  ],
  "metadata": {
    "accelerator": "GPU",
    "colab": {
      "gpuType": "T4",
      "provenance": []
    },
    "kernelspec": {
      "display_name": "Python 3",
      "name": "python3"
    },
    "language_info": {
      "name": "python"
    }
  },
  "nbformat": 4,
  "nbformat_minor": 0
}
